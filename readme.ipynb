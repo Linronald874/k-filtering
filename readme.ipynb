{
 "cells": [
  {
   "cell_type": "markdown",
   "metadata": {},
   "source": [
    "# k-filtering\n",
    "\n",
    "这个程序由林荣在张磊博士的源程序上修改完成。\n",
    "\n",
    "## 程序功能\n",
    "\n",
    "根据给定的格式化数据，计算空间中磁场或电场波动四维谱$P(\\omega,k_x,k_y,k_z)$估计，绘制$\\vec k$值各向异性和$\\omega-k_i$关系图。\n",
    "\n",
    "## 建议阅读顺序\n",
    "\n",
    "参数文件：parameters.py & location_and_klist.py\n",
    "\n",
    "1. eingabe.py（现在我使用jupyter notebook来做这一步，在JN脚本里把数据打包成4\\*9400\\*3的np.array，再保存到.npy文件，这样可以在main_calc_4d_spectrum.py直接使用它）。注意4stars\\*9400ticks\\*3components的数据格式。\n",
    "2. fft_data.py。没有什么稀奇的，主要对多维数据的第二维做处理，这个别错了。\n",
    "3. M_matrices.py。计算M矩阵。\n",
    "4. filter_centrl_algrthm.py。核心算法：计算P。\n",
    "5. main_calc_4d_spectrum.py。对整个事件计算P的主程序。\n",
    "6. main_plot_data.py。绘图的主程序。\n",
    "\n",
    "相信你在阅读完成之后一定能掌握如何使用它。\n",
    "\n",
    "## 应用到新数据/事件的流程\n",
    "\n",
    "### 1. 修改eingabe.py\n",
    "\n",
    "重写一个input_data()。这种数据载入方法现在已经不用，见下方update。\n",
    "\n",
    "**update：如果使用已经格式化为.npy的数据（使用.ipynb脚本进行处理，这样方便非常多），在main_calc_4d_spectrum.py的某一行修改载入数据的文件名：np.load()**\n",
    "\n",
    "### 2. 在parameters.py里面修改参数\n",
    "\n",
    "### 3. 使用新事件的话，修改location_and_klist.py\n",
    "\n",
    "里面的位置和k参数。\n",
    "\n",
    "### 4. BIG_NUM_OMEGAS\n",
    "\n",
    "为了计算以$\\omega_{pl}$为自变量的$P(\\omega,k_x,k_y,k_z)$，需要计算很大的$\\omega_{sc}$对应的$P$（根据多普勒关系，小的$\\omega_{pl}$可能对应大的$\\omega_{sc}$，在main_calc_4d_spectrum.py里面通过注释/反注释启用BIG_NUM_OMEGAS\n",
    "\n",
    "### 5.关于绘图main_plot_data.py\n",
    "\n",
    "先阅读绘图函数。\n",
    "\n",
    "可以修改的参数有：DO_LOG, zoom_rate, B_avg"
   ]
  },
  {
   "cell_type": "code",
   "execution_count": null,
   "metadata": {},
   "outputs": [],
   "source": []
  }
 ],
 "metadata": {
  "kernelspec": {
   "display_name": "Pytorch",
   "language": "python",
   "name": "pytorch"
  },
  "language_info": {
   "codemirror_mode": {
    "name": "ipython",
    "version": 3
   },
   "file_extension": ".py",
   "mimetype": "text/x-python",
   "name": "python",
   "nbconvert_exporter": "python",
   "pygments_lexer": "ipython3",
   "version": "3.6.9"
  }
 },
 "nbformat": 4,
 "nbformat_minor": 2
}
