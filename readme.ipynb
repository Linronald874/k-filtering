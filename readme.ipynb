{
 "cells": [
  {
   "cell_type": "markdown",
   "metadata": {},
   "source": [
    "# k-filtering\n",
    "\n",
    "这个程序由林荣在张磊博士的源程序上修改完成。\n",
    "\n",
    "原理见(Sahraoui, 2003. ULF wave...)和(Narita, 2010. Wave vector...)\n",
    "\n",
    "## 程序功能\n",
    "\n",
    "根据给定的格式化数据和参数，计算空间中磁场或电场波动四维谱$P(\\omega,\\vec k)$估计。\n",
    "\n",
    "## 建议阅读顺序\n",
    "\n",
    "参数文件：parameters.py & location_and_klist.py\n",
    "程序接受输入的文件格式是.npy的numpy数组文件，如4stars\\*9400ticks\\*3components的numpy array。\n",
    "\n",
    "1. fft_data.py。没有什么稀奇的，主要对上述多维数据的第二维做处理，这个别错了。\n",
    "2. M_matrices.py。计算M矩阵。\n",
    "3. filter_centrl_algrthm.py。核心算法：计算P。\n",
    "4. main_calc_4d_spectrum.py。对整个事件计算P并且将结果保存为.npy文件的主程序。\n",
    "\n",
    "相信你在阅读完成之后一定能掌握如何使用它。\n",
    "\n",
    "## 应用到新数据/事件的流程\n",
    "\n",
    "1. 在main_calc_4d_spectrum.py的某一行修改载入数据的文件名：np.load()\n",
    "2. 在parameters.py里面修改参数\n",
    "\n",
    "3. 修改location_and_klist.py里面的位置和k参数。\n",
    "\n",
    "4. BIG_NUM_OMEGAS\n",
    "       为了计算以$\\omega_{pl}$为自变量的$P(\\omega,k_x,k_y,k_z)$，需要计算很大的$\\omega_{sc}$对应的$P$（根据多普勒关系，小的$\\omega_{pl}$可能对应大的$\\omega_{sc}$，在main_calc_4d_spectrum.py里面通过注释/反注释启用BIG_NUM_OMEGAS"
   ]
  },
  {
   "cell_type": "code",
   "execution_count": null,
   "metadata": {},
   "outputs": [],
   "source": []
  }
 ],
 "metadata": {
  "kernelspec": {
   "display_name": "Pytorch",
   "language": "python",
   "name": "pytorch"
  },
  "language_info": {
   "codemirror_mode": {
    "name": "ipython",
    "version": 3
   },
   "file_extension": ".py",
   "mimetype": "text/x-python",
   "name": "python",
   "nbconvert_exporter": "python",
   "pygments_lexer": "ipython3",
   "version": "3.6.9"
  }
 },
 "nbformat": 4,
 "nbformat_minor": 2
}
